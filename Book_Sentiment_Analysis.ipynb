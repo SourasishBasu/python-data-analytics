{
  "nbformat": 4,
  "nbformat_minor": 0,
  "metadata": {
    "colab": {
      "provenance": [],
      "authorship_tag": "ABX9TyODWaQe+KiCnm0088kcNOHR",
      "include_colab_link": true
    },
    "kernelspec": {
      "name": "python3",
      "display_name": "Python 3"
    },
    "language_info": {
      "name": "python"
    }
  },
  "cells": [
    {
      "cell_type": "markdown",
      "metadata": {
        "id": "view-in-github",
        "colab_type": "text"
      },
      "source": [
        "<a href=\"https://colab.research.google.com/github/SourasishBasu/python-data-analytics/blob/main/Book_Sentiment_Analysis.ipynb\" target=\"_parent\"><img src=\"https://colab.research.google.com/assets/colab-badge.svg\" alt=\"Open In Colab\"/></a>"
      ]
    },
    {
      "cell_type": "markdown",
      "source": [
        "# Loading the Book"
      ],
      "metadata": {
        "id": "wqloRlfXemKh"
      }
    },
    {
      "cell_type": "code",
      "source": [
        "import re"
      ],
      "metadata": {
        "id": "SIG4lVdHfvlH"
      },
      "execution_count": null,
      "outputs": []
    },
    {
      "cell_type": "code",
      "execution_count": null,
      "metadata": {
        "id": "e8pUTSp7dEf4"
      },
      "outputs": [],
      "source": [
        "with open('miracle_in_the_andes.txt', \"r\") as f:\n",
        "  book = f.read()"
      ]
    },
    {
      "cell_type": "code",
      "source": [
        "type(book)"
      ],
      "metadata": {
        "colab": {
          "base_uri": "https://localhost:8080/"
        },
        "id": "QkQDf_B0erlO",
        "outputId": "471aeb43-f521-42a6-8e26-97bc3cbef569"
      },
      "execution_count": null,
      "outputs": [
        {
          "output_type": "execute_result",
          "data": {
            "text/plain": [
              "str"
            ]
          },
          "metadata": {},
          "execution_count": 2
        }
      ]
    },
    {
      "cell_type": "markdown",
      "source": [
        "# Couting the Number of Chapters\n",
        "\n",
        "### with string methods"
      ],
      "metadata": {
        "id": "OvIVFoueevAU"
      }
    },
    {
      "cell_type": "code",
      "source": [
        "book.count(\"Chapter\")"
      ],
      "metadata": {
        "colab": {
          "base_uri": "https://localhost:8080/"
        },
        "id": "X2ODQpl2eri9",
        "outputId": "a5fadf6f-e537-4ecf-84a3-203231ac7b8a"
      },
      "execution_count": null,
      "outputs": [
        {
          "output_type": "execute_result",
          "data": {
            "text/plain": [
              "11"
            ]
          },
          "metadata": {},
          "execution_count": 3
        }
      ]
    },
    {
      "cell_type": "markdown",
      "source": [
        "### with regex\n",
        "\n"
      ],
      "metadata": {
        "id": "KQMjJfr2ftYw"
      }
    },
    {
      "cell_type": "code",
      "source": [
        "pattern = re.compile(\"Chapter [0-9]+\") # + checks for 1 or more numbers after the first digit\n",
        "findings = re.findall(pattern, book)\n",
        "findings"
      ],
      "metadata": {
        "colab": {
          "base_uri": "https://localhost:8080/"
        },
        "id": "pthxstZLerg2",
        "outputId": "fe9b6765-8c2e-4604-f7e6-d08601c077aa"
      },
      "execution_count": null,
      "outputs": [
        {
          "output_type": "execute_result",
          "data": {
            "text/plain": [
              "['Chapter 1',\n",
              " 'Chapter 2',\n",
              " 'Chapter 3',\n",
              " 'Chapter 4',\n",
              " 'Chapter 5',\n",
              " 'Chapter 6',\n",
              " 'Chapter 7',\n",
              " 'Chapter 8',\n",
              " 'Chapter 9',\n",
              " 'Chapter 10']"
            ]
          },
          "metadata": {},
          "execution_count": 14
        }
      ]
    },
    {
      "cell_type": "code",
      "source": [
        "len(findings)"
      ],
      "metadata": {
        "colab": {
          "base_uri": "https://localhost:8080/"
        },
        "id": "sBiAKCQ5ereY",
        "outputId": "abf557a1-8e5f-431e-a22d-134bd4657dc2"
      },
      "execution_count": null,
      "outputs": [
        {
          "output_type": "execute_result",
          "data": {
            "text/plain": [
              "10"
            ]
          },
          "metadata": {},
          "execution_count": 12
        }
      ]
    },
    {
      "cell_type": "markdown",
      "source": [
        "# Extracting Chapter Titles"
      ],
      "metadata": {
        "id": "d6H3r39Crwwt"
      }
    },
    {
      "cell_type": "code",
      "source": [
        "pattern = re.compile(\"([a-zA-Z ]+)\\n\\n\")\n",
        "re.findall(pattern, book)"
      ],
      "metadata": {
        "id": "b_RwIvcNrzsw",
        "colab": {
          "base_uri": "https://localhost:8080/"
        },
        "outputId": "6bebc449-b961-4651-dd25-451be47662dd"
      },
      "execution_count": null,
      "outputs": [
        {
          "output_type": "execute_result",
          "data": {
            "text/plain": [
              "['Before',\n",
              " 'Everything Precious',\n",
              " 'A Promise',\n",
              " 'Breathe Once More',\n",
              " 'Abandoned',\n",
              " 'Tomb',\n",
              " 'East',\n",
              " 'The Opposite of Death',\n",
              " 'I See a Man',\n",
              " 'After']"
            ]
          },
          "metadata": {},
          "execution_count": 99
        }
      ]
    },
    {
      "cell_type": "markdown",
      "source": [
        "# Extracting Paragraphs with the word \"love\" in them"
      ],
      "metadata": {
        "id": "3DmiXsZqvYad"
      }
    },
    {
      "cell_type": "code",
      "source": [
        "pattern = re.compile(\"[^\\n]+love[^\\n]+\")\n",
        "paras = re.findall(pattern, book)\n",
        "paras[0]"
      ],
      "metadata": {
        "colab": {
          "base_uri": "https://localhost:8080/",
          "height": 140
        },
        "id": "BUI29jFPwhbi",
        "outputId": "b2be2d40-d0dd-406f-9de9-f82638cf35e9"
      },
      "execution_count": null,
      "outputs": [
        {
          "output_type": "execute_result",
          "data": {
            "text/plain": [
              "'To me, this is the essence of rugby. No other sport gives you such an intense sense of selflessness and unified purpose. I believe this is why rugby players all over the world feel such a passion for the game and such a feeling of brotherhood. As a young man, of course, I could not put these things into words, but I knew, and my teammates knew, that there was something special about the game, and under the guidance of the Christian Brothers we developed a passionate love for the sport that shaped our friendships and our lives. For eight years we played our hearts out for the Christian Brothers—a brotherhood of young boys with Latin names, playing a game with deep Anglo roots under Uruguay’s sunny skies, and proudly wearing the bright green shamrock on our uniforms. The game became so much a part of our lives, in fact, that when we graduated from Stella Maris at the age of sixteen, many of us could not bear the thought that our playing days were over. Our salvation came in the form of the Old Christians Club, a private rugby team formed in 1965 by previous alumni of the Stella Maris rugby program to give Stella Maris ruggers a chance to continue playing the game after our school years ended.'"
            ],
            "application/vnd.google.colaboratory.intrinsic+json": {
              "type": "string"
            }
          },
          "metadata": {},
          "execution_count": 100
        }
      ]
    },
    {
      "cell_type": "markdown",
      "source": [
        "# Extracting sentences which have the word \"love\" in it."
      ],
      "metadata": {
        "id": "7Qu938gEgy8u"
      }
    },
    {
      "cell_type": "code",
      "source": [
        "pattern = re.compile(\"[A-Z]{1}[^.]*[^a-zA-Z]+love[^a-zA-Z]+[^.]*.\")\n",
        "\n",
        "'''\n",
        "* - 0 or more\n",
        "{} - exactly 1\n",
        "^ - negation\n",
        "+ - 1 or more (at least 1)\n",
        "'''\n",
        "\n",
        "findings = re.findall(pattern, book)\n",
        "findings[:3]"
      ],
      "metadata": {
        "colab": {
          "base_uri": "https://localhost:8080/"
        },
        "id": "HOgiRod6ercC",
        "outputId": "338fd3d5-88de-401d-91e5-3c9259a824db"
      },
      "execution_count": null,
      "outputs": [
        {
          "output_type": "execute_result",
          "data": {
            "text/plain": [
              "['As a young man, of course, I could not put these things into words, but I knew, and my teammates knew, that there was something special about the game, and under the guidance of the Christian Brothers we developed a passionate love for the sport that shaped our friendships and our lives.',\n",
              " 'Guido and I grew up together, playing soccer and sharing a love of motorcycles, cars, and auto racing.',\n",
              " 'Under the guidance of the Christian Brothers, both of us grew to love the game of rugby with a consuming passion.']"
            ]
          },
          "metadata": {},
          "execution_count": 18
        }
      ]
    },
    {
      "cell_type": "code",
      "source": [
        "len(findings)"
      ],
      "metadata": {
        "colab": {
          "base_uri": "https://localhost:8080/"
        },
        "id": "DJFCQr4KerZr",
        "outputId": "12e92a18-6d3b-4d9e-db84-d4e1bab39333"
      },
      "execution_count": null,
      "outputs": [
        {
          "output_type": "execute_result",
          "data": {
            "text/plain": [
              "67"
            ]
          },
          "metadata": {},
          "execution_count": 16
        }
      ]
    },
    {
      "cell_type": "markdown",
      "source": [
        "# Finding out the word with highest occurence"
      ],
      "metadata": {
        "id": "OznuR3n2jXvm"
      }
    },
    {
      "cell_type": "code",
      "source": [
        "pattern = re.compile(\"[a-zA-Z]+\")\n",
        "findings = re.findall(pattern, book.lower())"
      ],
      "metadata": {
        "id": "I1w9XaSUerXW"
      },
      "execution_count": null,
      "outputs": []
    },
    {
      "cell_type": "code",
      "source": [
        "len(findings)"
      ],
      "metadata": {
        "colab": {
          "base_uri": "https://localhost:8080/"
        },
        "id": "XMTDQjcPerVB",
        "outputId": "5bb54ee9-641a-405c-a0a7-2a9192588a06"
      },
      "execution_count": null,
      "outputs": [
        {
          "output_type": "execute_result",
          "data": {
            "text/plain": [
              "86798"
            ]
          },
          "metadata": {},
          "execution_count": 35
        }
      ]
    },
    {
      "cell_type": "code",
      "source": [
        "from collections import Counter\n",
        "word_dict = Counter(findings) # Dictionary of word occurences"
      ],
      "metadata": {
        "id": "CmI_F5n4erSq"
      },
      "execution_count": null,
      "outputs": []
    },
    {
      "cell_type": "code",
      "source": [
        "def word_count_finder(word):\n",
        "  if word in word_dict.keys():\n",
        "    return word_dict[word]\n",
        "  else:\n",
        "    return f\"The book doesn't contain the word '{word}'.\"\n",
        "\n",
        "word_count_finder(\"a\")"
      ],
      "metadata": {
        "colab": {
          "base_uri": "https://localhost:8080/"
        },
        "id": "QvqXaiPe1VpL",
        "outputId": "465b3fd7-5402-49be-b392-d21ab10ea420"
      },
      "execution_count": null,
      "outputs": [
        {
          "output_type": "stream",
          "name": "stdout",
          "text": [
            "1566\n"
          ]
        }
      ]
    },
    {
      "cell_type": "code",
      "source": [
        "wordlist = [{val: key} for (key, val) in word_dict.items()] # Creating {count: word} pairs from word dict into a list for sorting\n",
        "\n",
        "wordlist = sorted(wordlist, key=lambda x: list(x.keys()), reverse=True) # Sorting dict into a list on the basis of occurence count in descending order\n",
        "\n",
        "wordlist[0]"
      ],
      "metadata": {
        "colab": {
          "base_uri": "https://localhost:8080/"
        },
        "id": "WxnPLWbFerQS",
        "outputId": "1a6eb7f5-b45c-440f-92ef-088e561ce371"
      },
      "execution_count": null,
      "outputs": [
        {
          "output_type": "execute_result",
          "data": {
            "text/plain": [
              "{5346: 'the'}"
            ]
          },
          "metadata": {},
          "execution_count": 50
        }
      ]
    },
    {
      "cell_type": "markdown",
      "source": [
        "# Using `ntlk` library for improved sentiment analysis"
      ],
      "metadata": {
        "id": "1nY_5IR-rvKZ"
      }
    },
    {
      "cell_type": "code",
      "source": [
        "from platform import python_version\n",
        "python_version()"
      ],
      "metadata": {
        "id": "Cj5szrPterL2",
        "colab": {
          "base_uri": "https://localhost:8080/",
          "height": 36
        },
        "outputId": "c4d126de-25f0-4185-ec4e-8d36a8ef2970"
      },
      "execution_count": null,
      "outputs": [
        {
          "output_type": "execute_result",
          "data": {
            "text/plain": [
              "'3.10.12'"
            ],
            "application/vnd.google.colaboratory.intrinsic+json": {
              "type": "string"
            }
          },
          "metadata": {},
          "execution_count": 101
        }
      ]
    },
    {
      "cell_type": "code",
      "source": [
        "!pip3.10 install nltk"
      ],
      "metadata": {
        "id": "Q3bp8NH5erJQ",
        "colab": {
          "base_uri": "https://localhost:8080/"
        },
        "outputId": "8da5ad19-a85f-4c89-aa7f-3e62dfa5624b"
      },
      "execution_count": null,
      "outputs": [
        {
          "output_type": "stream",
          "name": "stdout",
          "text": [
            "Requirement already satisfied: nltk in /usr/local/lib/python3.10/dist-packages (3.8.1)\n",
            "Requirement already satisfied: click in /usr/local/lib/python3.10/dist-packages (from nltk) (8.1.7)\n",
            "Requirement already satisfied: joblib in /usr/local/lib/python3.10/dist-packages (from nltk) (1.4.2)\n",
            "Requirement already satisfied: regex>=2021.8.3 in /usr/local/lib/python3.10/dist-packages (from nltk) (2024.5.15)\n",
            "Requirement already satisfied: tqdm in /usr/local/lib/python3.10/dist-packages (from nltk) (4.66.4)\n"
          ]
        }
      ]
    },
    {
      "cell_type": "code",
      "source": [
        "import nltk\n",
        "nltk.download('stopwords')\n",
        "from nltk.corpus import stopwords\n",
        "\n",
        "eng_stop = stopwords.words(\"english\")"
      ],
      "metadata": {
        "id": "h2hE2Z0Weqwq",
        "colab": {
          "base_uri": "https://localhost:8080/"
        },
        "outputId": "f168dca8-c2c0-4867-906c-94deb9138a27"
      },
      "execution_count": null,
      "outputs": [
        {
          "output_type": "stream",
          "name": "stderr",
          "text": [
            "[nltk_data] Downloading package stopwords to /root/nltk_data...\n",
            "[nltk_data]   Package stopwords is already up-to-date!\n"
          ]
        }
      ]
    },
    {
      "cell_type": "code",
      "source": [
        "eng_stop[:5]"
      ],
      "metadata": {
        "colab": {
          "base_uri": "https://localhost:8080/"
        },
        "id": "37agjbMDGCxf",
        "outputId": "0e3b9486-3f73-408f-e58c-d96e6ec38596"
      },
      "execution_count": null,
      "outputs": [
        {
          "output_type": "execute_result",
          "data": {
            "text/plain": [
              "['i', 'me', 'my', 'myself', 'we']"
            ]
          },
          "metadata": {},
          "execution_count": 152
        }
      ]
    },
    {
      "cell_type": "markdown",
      "source": [
        "## Filtering out Non-Stopwords"
      ],
      "metadata": {
        "id": "TfEa3CfUOCjO"
      }
    },
    {
      "cell_type": "code",
      "source": [
        "wordlist[:10]"
      ],
      "metadata": {
        "colab": {
          "base_uri": "https://localhost:8080/"
        },
        "id": "h4bEC0zmOKxa",
        "outputId": "4bc9f0c5-de2b-4725-ec10-844ed871b252"
      },
      "execution_count": null,
      "outputs": [
        {
          "output_type": "execute_result",
          "data": {
            "text/plain": [
              "[{5346: 'the'},\n",
              " {2795: 'and'},\n",
              " {2729: 'i'},\n",
              " {2400: 'to'},\n",
              " {2060: 'of'},\n",
              " {1566: 'a'},\n",
              " {1430: 'was'},\n",
              " {1419: 'in'},\n",
              " {1226: 'we'},\n",
              " {1169: 'my'}]"
            ]
          },
          "metadata": {},
          "execution_count": 149
        }
      ]
    },
    {
      "cell_type": "code",
      "source": [
        "filter = []\n",
        "for i in wordlist:\n",
        "  if list(i.values())[0] not in eng_stop: # Checking for stopwords from existing list from nltk\n",
        "    info1 = list(i.items())[0][::-1]\n",
        "    filter.append(info1)"
      ],
      "metadata": {
        "id": "pYjMeOL7HDSR"
      },
      "execution_count": null,
      "outputs": []
    },
    {
      "cell_type": "code",
      "source": [
        "filter[:10]"
      ],
      "metadata": {
        "colab": {
          "base_uri": "https://localhost:8080/"
        },
        "id": "U61cKR9QHdA0",
        "outputId": "2195a47d-2f6f-46e7-af80-d3a81d0149dd"
      },
      "execution_count": null,
      "outputs": [
        {
          "output_type": "execute_result",
          "data": {
            "text/plain": [
              "[('would', 575),\n",
              " ('us', 519),\n",
              " ('said', 292),\n",
              " ('roberto', 284),\n",
              " ('could', 252),\n",
              " ('one', 249),\n",
              " ('snow', 227),\n",
              " ('mountain', 183),\n",
              " ('time', 182),\n",
              " ('like', 165)]"
            ]
          },
          "metadata": {},
          "execution_count": 147
        }
      ]
    },
    {
      "cell_type": "code",
      "source": [
        "nltk.download('vader_lexicon')\n",
        "from nltk.sentiment import SentimentIntensityAnalyzer\n",
        "\n",
        "analyzer = SentimentIntensityAnalyzer() #Initializig SentimentAnalyzer object"
      ],
      "metadata": {
        "colab": {
          "base_uri": "https://localhost:8080/"
        },
        "id": "5Fzu69gKJOBP",
        "outputId": "c13dd3c5-012a-438c-fa55-23f11f4cf2fb"
      },
      "execution_count": null,
      "outputs": [
        {
          "output_type": "stream",
          "name": "stderr",
          "text": [
            "[nltk_data] Downloading package vader_lexicon to /root/nltk_data...\n"
          ]
        }
      ]
    },
    {
      "cell_type": "markdown",
      "source": [
        "# Assessing Overall Book Sentiment"
      ],
      "metadata": {
        "id": "p2S9upaEQYdw"
      }
    },
    {
      "cell_type": "code",
      "source": [
        "analyzer.polarity_scores(book)"
      ],
      "metadata": {
        "colab": {
          "base_uri": "https://localhost:8080/"
        },
        "id": "zR-euJ8BO1KK",
        "outputId": "1ff7347e-89af-4baf-a9ab-5164994de850"
      },
      "execution_count": null,
      "outputs": [
        {
          "output_type": "execute_result",
          "data": {
            "text/plain": [
              "{'neg': 0.116, 'neu': 0.76, 'pos': 0.125, 'compound': 1.0}"
            ]
          },
          "metadata": {},
          "execution_count": 155
        }
      ]
    },
    {
      "cell_type": "markdown",
      "source": [
        "# Analyzing Chapterwise sentiment"
      ],
      "metadata": {
        "id": "oCuRYhc8Qe0S"
      }
    },
    {
      "cell_type": "code",
      "source": [
        "pattern = re.compile(\"Chapter [0-9]+\")\n",
        "chapters = re.split(pattern, book)[1:] # Splitting book into chapter using regex for simplified understanding"
      ],
      "metadata": {
        "id": "uynQ8b-fO1H3"
      },
      "execution_count": null,
      "outputs": []
    },
    {
      "cell_type": "code",
      "source": [
        "pos, neg = [], []\n",
        "index = [x for x in range(1, 11)]\n",
        "\n",
        "# Calculating and storing positive and negative sentiment scores from each chapter\n",
        "for chapter in chapters:\n",
        "  score = analyzer.polarity_scores(chapter)\n",
        "  pos.append(score['pos'])\n",
        "  neg.append(score['neg'])\n",
        "\n",
        "print(pos)\n",
        "print(neg)"
      ],
      "metadata": {
        "colab": {
          "base_uri": "https://localhost:8080/"
        },
        "id": "54wLt7DlO1FQ",
        "outputId": "6b780aee-490b-45cf-dee6-9d56f95bbbbc"
      },
      "execution_count": null,
      "outputs": [
        {
          "output_type": "stream",
          "name": "stdout",
          "text": [
            "[0.16, 0.154, 0.105, 0.138, 0.141, 0.115, 0.103, 0.094, 0.079, 0.181]\n",
            "[0.061, 0.12, 0.145, 0.141, 0.118, 0.124, 0.136, 0.12, 0.097, 0.086]\n"
          ]
        }
      ]
    },
    {
      "cell_type": "markdown",
      "source": [
        "## Plotting Graph for Negative vs Positive Sentiment"
      ],
      "metadata": {
        "id": "B9NTXGVVYNpM"
      }
    },
    {
      "cell_type": "code",
      "source": [
        "import matplotlib.pyplot as plt\n",
        "\n",
        "plt.figure(figsize=(12,8))\n",
        "plt.xticks(fontsize=11)\n",
        "plt.yticks(fontsize=11)\n",
        "plt.title(\"Positive vs Negative Sentiment\")\n",
        "\n",
        "ax1 = plt.gca()\n",
        "ax2 = ax1.twinx()\n",
        "\n",
        "ax1.set_xlabel('Chapters', fontsize = 16)\n",
        "ax1.set_ylabel('Positivity', color = \"blue\", fontsize=16)\n",
        "ax2.set_ylabel('Negativity', color = 'orange', fontsize=16)\n",
        "\n",
        "ax1.plot(index[:], pos[:], color='b', linewidth=3)\n",
        "ax2.plot(index[:], neg[:], color='orange', linewidth=3)\n"
      ],
      "metadata": {
        "colab": {
          "base_uri": "https://localhost:8080/",
          "height": 742
        },
        "id": "JWpNsnzJO1C8",
        "outputId": "64fa4b97-7c1d-4968-94ba-614c437eed2a"
      },
      "execution_count": null,
      "outputs": [
        {
          "output_type": "execute_result",
          "data": {
            "text/plain": [
              "[<matplotlib.lines.Line2D at 0x7f86863bf9d0>]"
            ]
          },
          "metadata": {},
          "execution_count": 179
        },
        {
          "output_type": "display_data",
          "data": {
            "text/plain": [
              "<Figure size 1200x800 with 2 Axes>"
            ],
            "image/png": "[encoded data removed]"
          },
          "metadata": {}
        }
      ]
    }
  ]
}